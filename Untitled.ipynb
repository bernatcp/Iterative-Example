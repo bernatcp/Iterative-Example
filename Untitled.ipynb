{
 "cells": [
  {
   "cell_type": "markdown",
   "metadata": {},
   "source": [
    "This notebook explains the process of \"cooking\" a model, i.e. the iterative process of building a model exploiting human knowledgeand the Shapley Values from SHAP.\n",
    "\n",
    "The dataset used is extracted from the World Bank Open Data (https://data.worldbank.org/). We will build a model that will predict the GDP per capita for each country. We will use the 80% of the countries as training dataset, 10% of the countries as the validation dataset, and the remaining 10% of the countries as the test dataset.\n",
    "\n",
    "The features we included in this dataset are:\n",
    "\n",
    "- Population: The population of the country.\n",
    "- \n",
    "\n"
   ]
  },
  {
   "cell_type": "code",
   "execution_count": 1,
   "metadata": {},
   "outputs": [],
   "source": [
    "import pandas\n",
    "import numpy\n",
    "\n",
    "dades_pre = pandas.read_excel(open(\"Data_Extract_From_World_Development_Indicators.xlsx\",'rb'),sheet_name=\"Data\")\n",
    "dades = pandas.DataFrame(columns=['Population','Health',\"GINI\",'Industry','Children OoS','Inflation','Equality', 'Pregnant Adolescents','GDP per capita'])\n",
    "\n",
    "paisos = set(dades_pre[\"Country Name\"].tolist())\n",
    "\n",
    "for pais in paisos:\n",
    "    dades = dades.append(pandas.Series(name = pais))\n",
    "\n",
    "dades_pre =dades_pre.replace('..',numpy.NaN)\n",
    "\n",
    "for pais in paisos:\n",
    "    dades.at[pais,'Population'] = dades_pre.loc[(dades_pre['Country Name']==pais) & (dades_pre['Series Name']=='Population, total')]['2015 [YR2015]'].values[0]\n",
    "    dades.at[pais,'Health'] = dades_pre.loc[(dades_pre['Country Name']==pais) & (dades_pre['Series Name']=='UHC service coverage index')]['2015 [YR2015]'].values[0]\n",
    "    dades.at[pais,'GINI'] = dades_pre.loc[(dades_pre['Country Name']==pais) & (dades_pre['Series Name']=='GINI index (World Bank estimate)')]['2015 [YR2015]'].values[0]\n",
    "    dades.at[pais,'Industry'] = dades_pre.loc[(dades_pre['Country Name']==pais) & (dades_pre['Series Name']=='Industry (including construction), value added (% of GDP)')]['2015 [YR2015]'].values[0]\n",
    "    dades.at[pais,'Children OoS'] = dades_pre.loc[(dades_pre['Country Name']==pais) & (dades_pre['Series Name']=='Children out of school (% of primary school age)')]['2015 [YR2015]'].values[0]\n",
    "    dades.at[pais,'Inflation'] = dades_pre.loc[(dades_pre['Country Name']==pais) & (dades_pre['Series Name']=='Inflation, consumer prices (annual %)')]['2015 [YR2015]'].values[0]\n",
    "    dades.at[pais,'Equality'] = dades_pre.loc[(dades_pre['Country Name']==pais) & (dades_pre['Series Name']=='Law mandates equal remuneration for females and males for work of equal value (1=yes; 0=no)')]['2015 [YR2015]'].values[0]\n",
    "    dades.at[pais,'Pregnant Adolescents'] = dades_pre.loc[(dades_pre['Country Name']==pais) & (dades_pre['Series Name']=='Adolescent fertility rate (births per 1,000 women ages 15-19)')]['2015 [YR2015]'].values[0]\n",
    "    dades.at[pais,'GDP per capita'] = dades_pre.loc[(dades_pre['Country Name']==pais) & (dades_pre['Series Name']=='GDP per capita (current US$)')]['2015 [YR2015]'].values[0]"
   ]
  },
  {
   "cell_type": "code",
   "execution_count": null,
   "metadata": {},
   "outputs": [],
   "source": []
  }
 ],
 "metadata": {
  "kernelspec": {
   "display_name": "Python 3",
   "language": "python",
   "name": "python3"
  },
  "language_info": {
   "codemirror_mode": {
    "name": "ipython",
    "version": 3
   },
   "file_extension": ".py",
   "mimetype": "text/x-python",
   "name": "python",
   "nbconvert_exporter": "python",
   "pygments_lexer": "ipython3",
   "version": "3.7.4"
  }
 },
 "nbformat": 4,
 "nbformat_minor": 2
}
