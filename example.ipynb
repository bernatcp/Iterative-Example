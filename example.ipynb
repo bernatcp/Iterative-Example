{
 "cells": [
  {
   "cell_type": "markdown",
   "metadata": {},
   "source": [
    "This notebook explains the process of \"cooking\" a model, i.e. the iterative process of building a model exploiting human knowledgeand the Shapley Values from SHAP.\n",
    "\n",
    "The dataset used is extracted from the World Bank Open Data (https://data.worldbank.org/). We will build a model that will order the countries according to the GDP per capita. We will use the 80% of the countries as training dataset, 10% of the countries as the validation dataset, and the remaining 10% of the countries as the test dataset.\n",
    "\n",
    "The features we included in this dataset are:\n",
    "\n",
    "* Population: The population of the country (total).\n",
    "* Health: UHC (Universal health coverage) service coverage index\n",
    "* GINI: Deviation from a perfectly equal distribution of the income in the country.\n",
    "* Industry: Industry (including construction), value added (% of GDP)\n",
    "* Inflation: Inflation, consumer prices (annual %)\n",
    "* Children OoS: Children out of school (% of primary school age)\n",
    "* Equality: Law mandates equal remuneration for females and males for work of equal value (1=yes; 0=no)\n",
    "* Pregnant Adolescents: Adolescent fertility rate (births per 1,000 women ages 15-19)\n",
    "\n",
    "The differeces between this work and the presented in the paper are the following:\n",
    "\n",
    "* MAE vs. RMSE: This example will use the Mean Average Error as the Error instead of the Root Mean Square Error.\n",
    "* MAE vs. NDCG: We will also use the MAE to metric how good is our model in comparison to the NDCG.\n",
    "* The code from comparison.py is structured in a loop. We unloop this process to facilitate the explanation. \n",
    "\n",
    "\n",
    "\n",
    "\n",
    "\n"
   ]
  },
  {
   "cell_type": "markdown",
   "metadata": {},
   "source": [
    "Initial step: To load the data from the excel file from World Bank."
   ]
  },
  {
   "cell_type": "code",
   "execution_count": 2,
   "metadata": {},
   "outputs": [],
   "source": [
    "import pandas\n",
    "import numpy\n",
    "from sklearn.metrics import mean_absolute_error\n",
    "\n",
    "\n",
    "data_pre = pandas.read_excel(open(\"Data_Extract_From_World_Development_Indicators.xlsx\",'rb'),sheet_name=\"Data\")\n",
    "data = pandas.DataFrame(columns=['Population','Health',\"GINI\",'Industry','Children OoS','Inflation','Equality', 'Pregnant Adolescents','GDP per capita'])\n",
    "countries = set(data_pre[\"Country Name\"].tolist())\n",
    "data_pre =data_pre.replace('..',numpy.NaN)\n",
    "\n",
    "for country in countries:\n",
    "    data = data.append(pandas.Series(name = country))\n",
    "    data.at[country,'Population'] = data_pre.loc[(data_pre['Country Name']==country) & (data_pre['Series Name']=='Population, total')]['2015 [YR2015]'].values[0]\n",
    "    data.at[country,'Health'] = data_pre.loc[(data_pre['Country Name']==country) & (data_pre['Series Name']=='UHC service coverage index')]['2015 [YR2015]'].values[0]\n",
    "    data.at[country,'GINI'] = data_pre.loc[(data_pre['Country Name']==country) & (data_pre['Series Name']=='GINI index (World Bank estimate)')]['2015 [YR2015]'].values[0]\n",
    "    data.at[country,'Industry'] = data_pre.loc[(data_pre['Country Name']==country) & (data_pre['Series Name']=='Industry (including construction), value added (% of GDP)')]['2015 [YR2015]'].values[0]\n",
    "    data.at[country,'Children OoS'] = data_pre.loc[(data_pre['Country Name']==country) & (data_pre['Series Name']=='Children out of school (% of primary school age)')]['2015 [YR2015]'].values[0]\n",
    "    data.at[country,'Inflation'] = data_pre.loc[(data_pre['Country Name']==country) & (data_pre['Series Name']=='Inflation, consumer prices (annual %)')]['2015 [YR2015]'].values[0]\n",
    "    data.at[country,'Equality'] = data_pre.loc[(data_pre['Country Name']==country) & (data_pre['Series Name']=='Law mandates equal remuneration for females and males for work of equal value (1=yes; 0=no)')]['2015 [YR2015]'].values[0]\n",
    "    data.at[country,'Pregnant Adolescents'] = data_pre.loc[(data_pre['Country Name']==country) & (data_pre['Series Name']=='Adolescent fertility rate (births per 1,000 women ages 15-19)')]['2015 [YR2015]'].values[0]\n",
    "    data.at[country,'GDP per capita'] = data_pre.loc[(data_pre['Country Name']==country) & (data_pre['Series Name']=='GDP per capita (current US$)')]['2015 [YR2015]'].values[0]"
   ]
  },
  {
   "cell_type": "markdown",
   "metadata": {},
   "source": [
    "In data we have the information of each country. See for instance the information from Paraguay:"
   ]
  },
  {
   "cell_type": "code",
   "execution_count": 2,
   "metadata": {},
   "outputs": [
    {
     "data": {
      "text/plain": [
       "Population              6.68875e+06\n",
       "Health                           68\n",
       "GINI                           47.6\n",
       "Industry                    34.6276\n",
       "Children OoS                    NaN\n",
       "Inflation                     3.129\n",
       "Equality                          1\n",
       "Pregnant Adolescents        71.4732\n",
       "GDP per capita               5406.7\n",
       "Name: Paraguay, dtype: object"
      ]
     },
     "execution_count": 2,
     "metadata": {},
     "output_type": "execute_result"
    }
   ],
   "source": [
    "data.loc['Paraguay']"
   ]
  },
  {
   "cell_type": "markdown",
   "metadata": {},
   "source": [
    "second step: To pre-process the data."
   ]
  },
  {
   "cell_type": "code",
   "execution_count": 3,
   "metadata": {},
   "outputs": [],
   "source": [
    "data = data.dropna(subset=['GDP per capita'])\n",
    "    \n",
    "from sklearn.model_selection import train_test_split\n",
    "\n",
    "train, validationTest = train_test_split(data, test_size=0.2)\n",
    "validation, test = train_test_split(validationTest, test_size=0.5)\n",
    "\n",
    "trainY = train['GDP per capita'].astype('int32')\n",
    "validationY = validation['GDP per capita'].astype('int32')\n",
    "testY = test['GDP per capita'].astype('int32')\n",
    "trainX = train.drop(['GDP per capita'], axis=1).astype('float32')\n",
    "validationX = validation.drop(['GDP per capita'], axis=1).astype('float32')\n",
    "testX = test.drop(['GDP per capita'], axis=1).astype('float32')"
   ]
  },
  {
   "cell_type": "markdown",
   "metadata": {},
   "source": [
    "third step: train a model and analyse it.\n",
    "\n",
    "* i_features corresponds to the features that we will discard based on our analysis\n",
    "* previous_i_features is a copy of the i_features from the previous step\n",
    "* initialPerformance is the analy"
   ]
  },
  {
   "cell_type": "code",
   "execution_count": 4,
   "metadata": {},
   "outputs": [
    {
     "name": "stderr",
     "output_type": "stream",
     "text": [
      "Warning: Overfitting detector is active, thus evaluation metric is calculated on every iteration. 'metric_period' is ignored for evaluation metric.\n"
     ]
    },
    {
     "name": "stdout",
     "output_type": "stream",
     "text": [
      "0:\tlearn: 12387.2630531\ttest: 23430.5210050\tbest: 23430.5210050 (0)\ttotal: 65.6ms\tremaining: 1h 49m 19s\n",
      "500:\tlearn: 1842.6919000\ttest: 13854.6172403\tbest: 13409.0463967 (221)\ttotal: 1.24s\tremaining: 4m 7s\n",
      "Stopped by overfitting detector  (500 iterations wait)\n",
      "\n",
      "bestTest = 13409.0464\n",
      "bestIteration = 221\n",
      "\n",
      "Shrink model to first 222 iterations.\n",
      "0:\tlearn: 13573.3125047\ttotal: 2.07ms\tremaining: 456ms\n",
      "220:\tlearn: 4229.3262951\ttotal: 358ms\tremaining: 0us\n"
     ]
    },
    {
     "data": {
      "text/plain": [
       "<catboost.core.CatBoostRegressor at 0x2451d59c2c8>"
      ]
     },
     "execution_count": 4,
     "metadata": {},
     "output_type": "execute_result"
    }
   ],
   "source": [
    "from sklearn.metrics import mean_absolute_error\n",
    "\n",
    "import catboost as cbt\n",
    "\n",
    "i_features = set()\n",
    "previous_i_features = set()\n",
    "previousError = -1\n",
    "initialPerformance= -1\n",
    "finalPerformance = -1\n",
    "previousModel =-1\n",
    "\n",
    "trainValidationX = pandas.concat([trainX,validationX], ignore_index=False)\n",
    "trainValidationY = pandas.concat([trainY,validationY], ignore_index=False)\n",
    "\n",
    "\n",
    "cbt_model_dfgpu_previ = cbt.CatBoostRegressor(loss_function='MAE',ignored_features = i_features,metric_period = 500,train_dir=\"./entrenament/\",bootstrap_type = 'Bernoulli',subsample = 0.66,eval_metric = 'MAE',early_stopping_rounds = 500,iterations=100000,random_seed=99,use_best_model=True)\n",
    "cbt_model_dfgpu_previ.fit(trainX,trainY,eval_set=(validationX,validationY))\n",
    "\n",
    "predictionValidation = cbt_model_dfgpu_previ.predict(validationX)\n",
    "previousError = mean_absolute_error(validationY,predictionValidation)\n",
    "\n",
    "cbt_model_dfgpu = cbt.CatBoostRegressor(loss_function='MAE',ignored_features = i_features,metric_period = 500,train_dir=\"./entrenament/\",bootstrap_type = 'Bernoulli',subsample = 0.66,eval_metric = 'MAE',iterations=cbt_model_dfgpu_previ.best_iteration_,random_seed=99)\n",
    "cbt_model_dfgpu.fit(trainValidationX,trainValidationY)\n",
    "\n",
    "\n"
   ]
  },
  {
   "cell_type": "code",
   "execution_count": 14,
   "metadata": {},
   "outputs": [
    {
     "data": {
      "image/png": "[encoded data removed]",
      "text/plain": [
       "<Figure size 576x338.4 with 2 Axes>"
      ]
     },
     "metadata": {
      "needs_background": "light"
     },
     "output_type": "display_data"
    }
   ],
   "source": [
    "import shap\n",
    "shap_values_train = cbt_model_dfgpu.get_feature_importance(cbt.Pool(trainValidationX,trainValidationY), type='ShapValues')\n",
    "shap.summary_plot(numpy.array(shap_values_train[:,:-1]),features=numpy.array(trainValidationX),feature_names=trainValidationX.columns)"
   ]
  },
  {
   "cell_type": "code",
   "execution_count": 28,
   "metadata": {},
   "outputs": [
    {
     "data": {
      "text/plain": [
       "26"
      ]
     },
     "execution_count": 28,
     "metadata": {},
     "output_type": "execute_result"
    }
   ],
   "source": [
    "pos = data.columns.get_loc('Industry')\n",
    "maxPos = [val[pos] for val in shap_values_train]\n",
    "maxPosIndex = maxPos.index(max(maxPos))\n",
    "maxPosIndex"
   ]
  },
  {
   "cell_type": "code",
   "execution_count": 29,
   "metadata": {},
   "outputs": [
    {
     "data": {
      "text/plain": [
       "Population              37470.000000\n",
       "Health                           NaN\n",
       "GINI                             NaN\n",
       "Industry                   37.260265\n",
       "Children OoS                0.033490\n",
       "Inflation                        NaN\n",
       "Equality                         NaN\n",
       "Pregnant Adolescents             NaN\n",
       "Name: Liechtenstein, dtype: float32"
      ]
     },
     "execution_count": 29,
     "metadata": {},
     "output_type": "execute_result"
    }
   ],
   "source": [
    "trainValidationX.iloc[26]"
   ]
  },
  {
   "cell_type": "markdown",
   "metadata": {},
   "source": [
    "Liechtenstein is unique: very small, very rich, with very few information. We might consider to remove the instance in our training dataset to obtain a fairer model."
   ]
  },
  {
   "cell_type": "code",
   "execution_count": 31,
   "metadata": {},
   "outputs": [],
   "source": [
    "trainValidationX = trainValidationX.drop('Liechtenstein')"
   ]
  },
  {
   "cell_type": "code",
   "execution_count": null,
   "metadata": {},
   "outputs": [],
   "source": []
  }
 ],
 "metadata": {
  "kernelspec": {
   "display_name": "Python 3",
   "language": "python",
   "name": "python3"
  },
  "language_info": {
   "codemirror_mode": {
    "name": "ipython",
    "version": 3
   },
   "file_extension": ".py",
   "mimetype": "text/x-python",
   "name": "python",
   "nbconvert_exporter": "python",
   "pygments_lexer": "ipython3",
   "version": "3.7.4"
  }
 },
 "nbformat": 4,
 "nbformat_minor": 2
}
